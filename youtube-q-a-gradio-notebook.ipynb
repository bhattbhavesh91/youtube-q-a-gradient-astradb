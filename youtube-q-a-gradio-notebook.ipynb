{
  "nbformat": 4,
  "nbformat_minor": 0,
  "metadata": {
    "colab": {
      "provenance": [],
      "gpuType": "T4"
    },
    "kernelspec": {
      "name": "python3",
      "display_name": "Python 3"
    },
    "language_info": {
      "name": "python"
    },
    "accelerator": "GPU"
  },
  "cells": [
    {
      "cell_type": "markdown",
      "source": [
        "## Develop a versatile Q&A chatbot, employing LlamaIndex, ASTRA DB (Apache Cassandra), and Gradient's open-source models like LLama2, Gradio, all designed for seamless interaction with YouTube videos\n",
        "\n",
        "[**Link to my YouTube Channel**](https://www.youtube.com/BhaveshBhatt8791?sub_confirmation=1)\n",
        "\n",
        "Click on the link below to open a Colab version of the notebook. You will be able to create your own version."
      ],
      "metadata": {
        "id": "QABLMG8RXbLo"
      }
    },
    {
      "cell_type": "markdown",
      "source": [
        "<a href=\"https://colab.research.google.com/github/bhattbhavesh91//youtube-q-a-gradient-astradb/blob/main/youtube-q-a-gradio-notebook.ipynb\" target=\"_blank\"><img height=\"40\" alt=\"Run your own notebook in Colab\" src = \"https://colab.research.google.com/assets/colab-badge.svg\"></a>"
      ],
      "metadata": {
        "id": "lIL3e_wNYAYE"
      }
    },
    {
      "cell_type": "markdown",
      "source": [
        "# Installation"
      ],
      "metadata": {
        "id": "mHQ2RrthgyxA"
      }
    },
    {
      "cell_type": "code",
      "source": [
        "!pip install -q gradio\n",
        "!pip install -Uq yt-dlp\n",
        "!pip install -Uq openai-whisper\n",
        "!pip install -q cassandra-driver\n",
        "!pip install -q cassio>=0.1.1\n",
        "!pip install -q gradientai --upgrade\n",
        "!pip install -q llama-index\n",
        "!pip install -q pypdf\n",
        "!pip install -q tiktoken==0.4.0"
      ],
      "metadata": {
        "id": "JVjGvpnwGeSd"
      },
      "execution_count": null,
      "outputs": []
    },
    {
      "cell_type": "markdown",
      "source": [
        "# Imports"
      ],
      "metadata": {
        "id": "sbuV__oPg0rU"
      }
    },
    {
      "cell_type": "code",
      "source": [
        "import gradio as gr\n",
        "import random\n",
        "import os\n",
        "import time\n",
        "import re\n",
        "import yt_dlp\n",
        "import whisper\n",
        "import os\n",
        "import json\n",
        "from cassandra.auth import PlainTextAuthProvider\n",
        "from cassandra.cluster import Cluster\n",
        "from llama_index import ServiceContext\n",
        "from llama_index import set_global_service_context\n",
        "from llama_index import VectorStoreIndex, SimpleDirectoryReader, StorageContext\n",
        "from llama_index.embeddings import GradientEmbedding\n",
        "from llama_index.llms import GradientBaseModelLLM\n",
        "from llama_index.vector_stores import CassandraVectorStore"
      ],
      "metadata": {
        "id": "98-GCZFkNcBs"
      },
      "execution_count": null,
      "outputs": []
    },
    {
      "cell_type": "markdown",
      "source": [
        "# Environment Variables"
      ],
      "metadata": {
        "id": "d9_L09rfg2JD"
      }
    },
    {
      "cell_type": "code",
      "source": [
        "os.environ['GRADIENT_ACCESS_TOKEN'] = \"Enter your GRADIENT ACCESS TOKEN\"\n",
        "os.environ['GRADIENT_WORKSPACE_ID'] = \"Enter your GRADIENT WORKSPACE ID\""
      ],
      "metadata": {
        "id": "PGDEp_2hVHLw"
      },
      "execution_count": null,
      "outputs": []
    },
    {
      "cell_type": "markdown",
      "source": [
        "# Download Audio from YouTube video function"
      ],
      "metadata": {
        "id": "Sm3XHxfUg4Eu"
      }
    },
    {
      "cell_type": "code",
      "source": [
        "def download_audio(link):\n",
        "    with yt_dlp.YoutubeDL({'extract_audio': True,\n",
        "                           'format': 'bestaudio',\n",
        "                           'outtmpl': '%(title)s.mp3'}) as video:\n",
        "        info_dict = video.extract_info(link, download = True)\n",
        "        video_title = info_dict['title']\n",
        "        video.download(link)\n",
        "    return video_title"
      ],
      "metadata": {
        "id": "h-UMWP5hNcE2"
      },
      "execution_count": null,
      "outputs": []
    },
    {
      "cell_type": "markdown",
      "source": [
        "# Transcribe Audio from mp3 file"
      ],
      "metadata": {
        "id": "KL7p7k_ug7KZ"
      }
    },
    {
      "cell_type": "code",
      "source": [
        "def transcribe(model, audio):\n",
        "    result = model.transcribe(audio)\n",
        "    with open(\"text_files/transcription.txt\", 'w') as f:\n",
        "        f.write(result[\"text\"])\n",
        "    return 1"
      ],
      "metadata": {
        "id": "RveJfoBrOW0R"
      },
      "execution_count": null,
      "outputs": []
    },
    {
      "cell_type": "markdown",
      "source": [
        "# Setup the folder and load the Whisper Model"
      ],
      "metadata": {
        "id": "cLvlHnqWhFds"
      }
    },
    {
      "cell_type": "code",
      "source": [
        "os.makedirs(\"text_files\")"
      ],
      "metadata": {
        "id": "ujSqKEx8OyDQ"
      },
      "execution_count": null,
      "outputs": []
    },
    {
      "cell_type": "code",
      "source": [
        "model = whisper.load_model(\"small\")"
      ],
      "metadata": {
        "id": "PcqgrR9zPcW2"
      },
      "execution_count": null,
      "outputs": []
    },
    {
      "cell_type": "markdown",
      "source": [
        "# Setup the DataStax Vector DB Connection"
      ],
      "metadata": {
        "id": "v0l4X2WUhJKJ"
      }
    },
    {
      "cell_type": "code",
      "source": [
        "# This secure connect bundle is autogenerated when you donwload your SCB,\n",
        "# if yours is different update the file name below\n",
        "cloud_config= {\n",
        "  'secure_connect_bundle': 'secure-connect-bhavesh-astra-test.zip'\n",
        "}\n",
        "\n",
        "# This token json file is autogenerated when you donwload your token,\n",
        "# if yours is different update the file name below\n",
        "with open(\"bhavesh_astra_test-token.json\") as f:\n",
        "    secrets = json.load(f)\n",
        "\n",
        "CLIENT_ID = secrets[\"clientId\"]\n",
        "CLIENT_SECRET = secrets[\"secret\"]\n",
        "\n",
        "auth_provider = PlainTextAuthProvider(CLIENT_ID, CLIENT_SECRET)\n",
        "cluster = Cluster(cloud=cloud_config, auth_provider=auth_provider)\n",
        "session = cluster.connect()\n",
        "\n",
        "row = session.execute(\"select release_version from system.local\").one()\n",
        "if row:\n",
        "  print(row[0])\n",
        "else:\n",
        "  print(\"An error occurred.\")"
      ],
      "metadata": {
        "id": "SNrNKrJWQoZg"
      },
      "execution_count": null,
      "outputs": []
    },
    {
      "cell_type": "markdown",
      "source": [
        "# Define the Gradient's Model Adapter for LLAMA-2"
      ],
      "metadata": {
        "id": "TobDHyoJhQD7"
      }
    },
    {
      "cell_type": "code",
      "source": [
        "llm = GradientBaseModelLLM(\n",
        "    base_model_slug = \"llama2-7b-chat\",\n",
        "    max_tokens = 400,\n",
        ")"
      ],
      "metadata": {
        "id": "F9V5V0QwQwwP"
      },
      "execution_count": null,
      "outputs": []
    },
    {
      "cell_type": "markdown",
      "source": [
        "# Configure Gradient embeddings"
      ],
      "metadata": {
        "id": "esVcCCmKhWb_"
      }
    },
    {
      "cell_type": "code",
      "source": [
        "embed_model = GradientEmbedding(\n",
        "    gradient_access_token = os.environ[\"GRADIENT_ACCESS_TOKEN\"],\n",
        "    gradient_workspace_id = os.environ[\"GRADIENT_WORKSPACE_ID\"],\n",
        "    gradient_model_slug =\"bge-large\",\n",
        ")"
      ],
      "metadata": {
        "id": "U4eC263hQw0d"
      },
      "execution_count": null,
      "outputs": []
    },
    {
      "cell_type": "markdown",
      "source": [
        "# Setup LLAMA Index Service Context"
      ],
      "metadata": {
        "id": "ByfIs25Xhbmc"
      }
    },
    {
      "cell_type": "code",
      "source": [
        "service_context = ServiceContext.from_defaults(\n",
        "    llm = llm,\n",
        "    embed_model = embed_model,\n",
        "    chunk_size = 256,\n",
        ")\n",
        "\n",
        "set_global_service_context(service_context)"
      ],
      "metadata": {
        "id": "PQaW3r8tQ1R3"
      },
      "execution_count": null,
      "outputs": []
    },
    {
      "cell_type": "markdown",
      "source": [
        "# Define the ChatBot Interface"
      ],
      "metadata": {
        "id": "FVOa7gq1hg0h"
      }
    },
    {
      "cell_type": "code",
      "source": [
        "with gr.Blocks() as demo:\n",
        "    chatbot = gr.Chatbot()\n",
        "    msg = gr.Textbox()\n",
        "    clear = gr.ClearButton([msg, chatbot])\n",
        "\n",
        "    def respond(message, chat_history):\n",
        "        pattern = r'^(?:https?://)?(?:www\\.)?(?:youtube\\.com/watch\\?v=|youtu\\.be/|youtube\\.com/embed/|youtube\\.com/v/|youtube\\.com/user/[^/]+/u/[^/]+/|youtube\\.com/attribution_link\\?a=|youtube\\.com/attribution_user\\?u=)([a-zA-Z0-9_-]{11})'\n",
        "        pattern_match = re.match(pattern, message)\n",
        "        if pattern_match:\n",
        "            vid_title = download_audio(message)\n",
        "            file_name_audio = str(vid_title) + \".mp3\"\n",
        "            transcribe_text = transcribe(model, file_name_audio)\n",
        "            bot_message = \"Transcribed the audio for the following YouTube video {}\".format(vid_title)\n",
        "        else:\n",
        "            doc_path = \"/content/text_files/\"\n",
        "            _, _, files = next(os.walk(doc_path))\n",
        "            file_count = len(files)\n",
        "            if file_count > 0:\n",
        "                documents = SimpleDirectoryReader(doc_path).load_data()\n",
        "                index = VectorStoreIndex.from_documents(documents,\n",
        "                                                        service_context=service_context)\n",
        "                query_engine = index.as_query_engine()\n",
        "                response_1 = query_engine.query(message)\n",
        "                bot_message = response_1.response\n",
        "            else:\n",
        "                bot_message = \"No data Found, please add a YouTube video\"\n",
        "\n",
        "        chat_history.append((message, bot_message))\n",
        "        time.sleep(1)\n",
        "        return \"\", chat_history\n",
        "\n",
        "    msg.submit(respond, [msg, chatbot], [msg, chatbot])\n",
        "\n",
        "demo.launch()"
      ],
      "metadata": {
        "id": "vqUeOh5vJWnh"
      },
      "execution_count": null,
      "outputs": []
    },
    {
      "cell_type": "code",
      "source": [],
      "metadata": {
        "id": "k2Fu3RedNa-D"
      },
      "execution_count": null,
      "outputs": []
    },
    {
      "cell_type": "code",
      "source": [],
      "metadata": {
        "id": "vYX3nnD4a5UK"
      },
      "execution_count": null,
      "outputs": []
    }
  ]
}